{
 "cells": [
  {
   "cell_type": "code",
   "execution_count": 2,
   "metadata": {},
   "outputs": [
    {
     "name": "stdout",
     "output_type": "stream",
     "text": [
      "(9990, 59)\n"
     ]
    },
    {
     "data": {
      "text/html": [
       "<div>\n",
       "<style scoped>\n",
       "    .dataframe tbody tr th:only-of-type {\n",
       "        vertical-align: middle;\n",
       "    }\n",
       "\n",
       "    .dataframe tbody tr th {\n",
       "        vertical-align: top;\n",
       "    }\n",
       "\n",
       "    .dataframe thead th {\n",
       "        text-align: right;\n",
       "    }\n",
       "</style>\n",
       "<table border=\"1\" class=\"dataframe\">\n",
       "  <thead>\n",
       "    <tr style=\"text-align: right;\">\n",
       "      <th></th>\n",
       "      <th>length</th>\n",
       "      <th>chroma_stft_mean</th>\n",
       "      <th>chroma_stft_var</th>\n",
       "      <th>rms_mean</th>\n",
       "      <th>rms_var</th>\n",
       "      <th>spectral_centroid_mean</th>\n",
       "      <th>spectral_centroid_var</th>\n",
       "      <th>spectral_bandwidth_mean</th>\n",
       "      <th>spectral_bandwidth_var</th>\n",
       "      <th>rolloff_mean</th>\n",
       "      <th>...</th>\n",
       "      <th>mfcc16_var</th>\n",
       "      <th>mfcc17_mean</th>\n",
       "      <th>mfcc17_var</th>\n",
       "      <th>mfcc18_mean</th>\n",
       "      <th>mfcc18_var</th>\n",
       "      <th>mfcc19_mean</th>\n",
       "      <th>mfcc19_var</th>\n",
       "      <th>mfcc20_mean</th>\n",
       "      <th>mfcc20_var</th>\n",
       "      <th>label</th>\n",
       "    </tr>\n",
       "  </thead>\n",
       "  <tbody>\n",
       "    <tr>\n",
       "      <th>0</th>\n",
       "      <td>66149</td>\n",
       "      <td>0.405787</td>\n",
       "      <td>0.082133</td>\n",
       "      <td>0.138221</td>\n",
       "      <td>0.001277</td>\n",
       "      <td>2230.722642</td>\n",
       "      <td>1.921654e+05</td>\n",
       "      <td>2038.281631</td>\n",
       "      <td>56932.695538</td>\n",
       "      <td>4218.685772</td>\n",
       "      <td>...</td>\n",
       "      <td>27.185362</td>\n",
       "      <td>-10.830551</td>\n",
       "      <td>43.171944</td>\n",
       "      <td>-0.281758</td>\n",
       "      <td>24.902754</td>\n",
       "      <td>-4.999583</td>\n",
       "      <td>26.031410</td>\n",
       "      <td>-4.887905</td>\n",
       "      <td>39.240589</td>\n",
       "      <td>rock</td>\n",
       "    </tr>\n",
       "    <tr>\n",
       "      <th>1</th>\n",
       "      <td>66149</td>\n",
       "      <td>0.205412</td>\n",
       "      <td>0.081193</td>\n",
       "      <td>0.098849</td>\n",
       "      <td>0.000238</td>\n",
       "      <td>1928.115766</td>\n",
       "      <td>9.132848e+04</td>\n",
       "      <td>2272.407417</td>\n",
       "      <td>101514.610622</td>\n",
       "      <td>3982.980018</td>\n",
       "      <td>...</td>\n",
       "      <td>29.312222</td>\n",
       "      <td>-7.789501</td>\n",
       "      <td>18.747837</td>\n",
       "      <td>-11.615203</td>\n",
       "      <td>29.020212</td>\n",
       "      <td>-14.925071</td>\n",
       "      <td>21.303030</td>\n",
       "      <td>-7.999190</td>\n",
       "      <td>36.818485</td>\n",
       "      <td>country</td>\n",
       "    </tr>\n",
       "    <tr>\n",
       "      <th>2</th>\n",
       "      <td>66149</td>\n",
       "      <td>0.293029</td>\n",
       "      <td>0.086424</td>\n",
       "      <td>0.175412</td>\n",
       "      <td>0.001872</td>\n",
       "      <td>1775.728875</td>\n",
       "      <td>1.343576e+05</td>\n",
       "      <td>1921.424755</td>\n",
       "      <td>69514.878560</td>\n",
       "      <td>3646.233849</td>\n",
       "      <td>...</td>\n",
       "      <td>50.299793</td>\n",
       "      <td>-12.192084</td>\n",
       "      <td>48.552959</td>\n",
       "      <td>2.421471</td>\n",
       "      <td>59.898277</td>\n",
       "      <td>-6.586587</td>\n",
       "      <td>30.366610</td>\n",
       "      <td>-4.493878</td>\n",
       "      <td>24.663740</td>\n",
       "      <td>country</td>\n",
       "    </tr>\n",
       "    <tr>\n",
       "      <th>3</th>\n",
       "      <td>66149</td>\n",
       "      <td>0.316217</td>\n",
       "      <td>0.080690</td>\n",
       "      <td>0.119825</td>\n",
       "      <td>0.001141</td>\n",
       "      <td>1551.235360</td>\n",
       "      <td>9.060583e+04</td>\n",
       "      <td>1645.740903</td>\n",
       "      <td>74766.679591</td>\n",
       "      <td>3111.713492</td>\n",
       "      <td>...</td>\n",
       "      <td>24.863947</td>\n",
       "      <td>-13.581235</td>\n",
       "      <td>56.023800</td>\n",
       "      <td>2.175846</td>\n",
       "      <td>60.637058</td>\n",
       "      <td>-2.861668</td>\n",
       "      <td>34.270058</td>\n",
       "      <td>-4.363754</td>\n",
       "      <td>50.375687</td>\n",
       "      <td>country</td>\n",
       "    </tr>\n",
       "    <tr>\n",
       "      <th>4</th>\n",
       "      <td>66149</td>\n",
       "      <td>0.426340</td>\n",
       "      <td>0.084950</td>\n",
       "      <td>0.222834</td>\n",
       "      <td>0.006659</td>\n",
       "      <td>3634.764588</td>\n",
       "      <td>1.154008e+06</td>\n",
       "      <td>3150.671548</td>\n",
       "      <td>94277.461877</td>\n",
       "      <td>7482.788086</td>\n",
       "      <td>...</td>\n",
       "      <td>39.668736</td>\n",
       "      <td>-0.770678</td>\n",
       "      <td>42.563206</td>\n",
       "      <td>0.404900</td>\n",
       "      <td>42.437664</td>\n",
       "      <td>-0.206093</td>\n",
       "      <td>64.655235</td>\n",
       "      <td>-3.245765</td>\n",
       "      <td>81.790466</td>\n",
       "      <td>pop</td>\n",
       "    </tr>\n",
       "  </tbody>\n",
       "</table>\n",
       "<p>5 rows × 59 columns</p>\n",
       "</div>"
      ],
      "text/plain": [
       "   length  chroma_stft_mean  chroma_stft_var  rms_mean   rms_var  \\\n",
       "0   66149          0.405787         0.082133  0.138221  0.001277   \n",
       "1   66149          0.205412         0.081193  0.098849  0.000238   \n",
       "2   66149          0.293029         0.086424  0.175412  0.001872   \n",
       "3   66149          0.316217         0.080690  0.119825  0.001141   \n",
       "4   66149          0.426340         0.084950  0.222834  0.006659   \n",
       "\n",
       "   spectral_centroid_mean  spectral_centroid_var  spectral_bandwidth_mean  \\\n",
       "0             2230.722642           1.921654e+05              2038.281631   \n",
       "1             1928.115766           9.132848e+04              2272.407417   \n",
       "2             1775.728875           1.343576e+05              1921.424755   \n",
       "3             1551.235360           9.060583e+04              1645.740903   \n",
       "4             3634.764588           1.154008e+06              3150.671548   \n",
       "\n",
       "   spectral_bandwidth_var  rolloff_mean  ...  mfcc16_var  mfcc17_mean  \\\n",
       "0            56932.695538   4218.685772  ...   27.185362   -10.830551   \n",
       "1           101514.610622   3982.980018  ...   29.312222    -7.789501   \n",
       "2            69514.878560   3646.233849  ...   50.299793   -12.192084   \n",
       "3            74766.679591   3111.713492  ...   24.863947   -13.581235   \n",
       "4            94277.461877   7482.788086  ...   39.668736    -0.770678   \n",
       "\n",
       "   mfcc17_var  mfcc18_mean  mfcc18_var  mfcc19_mean  mfcc19_var  mfcc20_mean  \\\n",
       "0   43.171944    -0.281758   24.902754    -4.999583   26.031410    -4.887905   \n",
       "1   18.747837   -11.615203   29.020212   -14.925071   21.303030    -7.999190   \n",
       "2   48.552959     2.421471   59.898277    -6.586587   30.366610    -4.493878   \n",
       "3   56.023800     2.175846   60.637058    -2.861668   34.270058    -4.363754   \n",
       "4   42.563206     0.404900   42.437664    -0.206093   64.655235    -3.245765   \n",
       "\n",
       "   mfcc20_var    label  \n",
       "0   39.240589     rock  \n",
       "1   36.818485  country  \n",
       "2   24.663740  country  \n",
       "3   50.375687  country  \n",
       "4   81.790466      pop  \n",
       "\n",
       "[5 rows x 59 columns]"
      ]
     },
     "execution_count": 2,
     "metadata": {},
     "output_type": "execute_result"
    }
   ],
   "source": [
    "import numpy as np \n",
    "import pandas as pd\n",
    "import os\n",
    "from sklearn.utils import shuffle\n",
    "path='D:/1. 7th sem/Project/Recommendation and Classification System/archive/Data'\n",
    "data = pd.read_csv(f'{path}/features_3_sec.csv')\n",
    "data = shuffle(data)\n",
    "data = shuffle(data)\n",
    "individual_data=data\n",
    "data.reset_index(drop=True, inplace=True)\n",
    "data = data.iloc[0:, 1:] \n",
    "print(data.shape)\n",
    "data.head()"
   ]
  },
  {
   "cell_type": "code",
   "execution_count": 3,
   "metadata": {},
   "outputs": [
    {
     "name": "stdout",
     "output_type": "stream",
     "text": [
      "['blues', 'classical', 'country', 'disco', 'hiphop', 'jazz', 'metal', 'pop', 'reggae', 'rock']\n"
     ]
    }
   ],
   "source": [
    "print(list(os.listdir(f'{path}/genres_original/')))"
   ]
  },
  {
   "cell_type": "code",
   "execution_count": 4,
   "metadata": {},
   "outputs": [],
   "source": [
    "## Processing and Normalization\n",
    "from sklearn import preprocessing\n",
    "y = data['label'] \n",
    "X = data.loc[:, data.columns != 'label'] \n",
    "X = X.loc[:, X.columns != 'length'] \n",
    "\n",
    "individual_data = individual_data.loc[:, individual_data.columns != 'label'] \n",
    "# Normalize\n",
    "cols = X.columns\n",
    "min_max_scaler = preprocessing.MinMaxScaler()\n",
    "np_scaled = min_max_scaler.fit_transform(X)\n",
    "\n",
    "X = pd.DataFrame(np_scaled, columns = cols)"
   ]
  },
  {
   "cell_type": "code",
   "execution_count": 5,
   "metadata": {},
   "outputs": [],
   "source": [
    "# Splitting the data into Test(20%) and Train(80%) dataframes.\n",
    "from sklearn.model_selection import train_test_split\n",
    "X_train, X_test, y_train, y_test = train_test_split(X, y, test_size=0.2, random_state=42)"
   ]
  },
  {
   "cell_type": "code",
   "execution_count": 7,
   "metadata": {},
   "outputs": [
    {
     "name": "stderr",
     "output_type": "stream",
     "text": [
      "C:\\Users\\Asus\\AppData\\Local\\Programs\\Python\\Python39\\lib\\site-packages\\xgboost\\sklearn.py:1224: UserWarning: The use of label encoder in XGBClassifier is deprecated and will be removed in a future release. To remove this warning, do the following: 1) Pass option use_label_encoder=False when constructing XGBClassifier object; and 2) Encode your labels (y) as integers starting with 0, i.e. 0, 1, 2, ..., [num_class - 1].\n",
      "  warnings.warn(label_encoder_deprecation_msg, UserWarning)\n"
     ]
    },
    {
     "name": "stdout",
     "output_type": "stream",
     "text": [
      "[13:57:18] WARNING: C:/Users/Administrator/workspace/xgboost-win64_release_1.5.0/src/learner.cc:1115: Starting in XGBoost 1.3.0, the default evaluation metric used with the objective 'multi:softprob' was changed from 'merror' to 'mlogloss'. Explicitly set eval_metric if you'd like to restore the old behavior.\n",
      "Accuracy : 0.9014 \n",
      " estimators:  300 \n",
      " maxdepth:  3\n",
      "[13:57:52] WARNING: C:/Users/Administrator/workspace/xgboost-win64_release_1.5.0/src/learner.cc:1115: Starting in XGBoost 1.3.0, the default evaluation metric used with the objective 'multi:softprob' was changed from 'merror' to 'mlogloss'. Explicitly set eval_metric if you'd like to restore the old behavior.\n"
     ]
    },
    {
     "name": "stderr",
     "output_type": "stream",
     "text": [
      "C:\\Users\\Asus\\AppData\\Local\\Programs\\Python\\Python39\\lib\\site-packages\\xgboost\\sklearn.py:1224: UserWarning: The use of label encoder in XGBClassifier is deprecated and will be removed in a future release. To remove this warning, do the following: 1) Pass option use_label_encoder=False when constructing XGBClassifier object; and 2) Encode your labels (y) as integers starting with 0, i.e. 0, 1, 2, ..., [num_class - 1].\n",
      "  warnings.warn(label_encoder_deprecation_msg, UserWarning)\n"
     ]
    },
    {
     "name": "stdout",
     "output_type": "stream",
     "text": [
      "Accuracy : 0.9049 \n",
      " estimators:  300 \n",
      " maxdepth:  4\n"
     ]
    },
    {
     "name": "stderr",
     "output_type": "stream",
     "text": [
      "C:\\Users\\Asus\\AppData\\Local\\Programs\\Python\\Python39\\lib\\site-packages\\xgboost\\sklearn.py:1224: UserWarning: The use of label encoder in XGBClassifier is deprecated and will be removed in a future release. To remove this warning, do the following: 1) Pass option use_label_encoder=False when constructing XGBClassifier object; and 2) Encode your labels (y) as integers starting with 0, i.e. 0, 1, 2, ..., [num_class - 1].\n",
      "  warnings.warn(label_encoder_deprecation_msg, UserWarning)\n"
     ]
    },
    {
     "name": "stdout",
     "output_type": "stream",
     "text": [
      "[13:58:33] WARNING: C:/Users/Administrator/workspace/xgboost-win64_release_1.5.0/src/learner.cc:1115: Starting in XGBoost 1.3.0, the default evaluation metric used with the objective 'multi:softprob' was changed from 'merror' to 'mlogloss'. Explicitly set eval_metric if you'd like to restore the old behavior.\n",
      "Accuracy : 0.91041 \n",
      " estimators:  300 \n",
      " maxdepth:  5\n"
     ]
    },
    {
     "name": "stderr",
     "output_type": "stream",
     "text": [
      "C:\\Users\\Asus\\AppData\\Local\\Programs\\Python\\Python39\\lib\\site-packages\\xgboost\\sklearn.py:1224: UserWarning: The use of label encoder in XGBClassifier is deprecated and will be removed in a future release. To remove this warning, do the following: 1) Pass option use_label_encoder=False when constructing XGBClassifier object; and 2) Encode your labels (y) as integers starting with 0, i.e. 0, 1, 2, ..., [num_class - 1].\n",
      "  warnings.warn(label_encoder_deprecation_msg, UserWarning)\n"
     ]
    },
    {
     "name": "stdout",
     "output_type": "stream",
     "text": [
      "[13:59:13] WARNING: C:/Users/Administrator/workspace/xgboost-win64_release_1.5.0/src/learner.cc:1115: Starting in XGBoost 1.3.0, the default evaluation metric used with the objective 'multi:softprob' was changed from 'merror' to 'mlogloss'. Explicitly set eval_metric if you'd like to restore the old behavior.\n",
      "Accuracy : 0.90641 \n",
      " estimators:  300 \n",
      " maxdepth:  6\n",
      "[13:59:52] WARNING: C:/Users/Administrator/workspace/xgboost-win64_release_1.5.0/src/learner.cc:1115: Starting in XGBoost 1.3.0, the default evaluation metric used with the objective 'multi:softprob' was changed from 'merror' to 'mlogloss'. Explicitly set eval_metric if you'd like to restore the old behavior.\n"
     ]
    },
    {
     "name": "stderr",
     "output_type": "stream",
     "text": [
      "C:\\Users\\Asus\\AppData\\Local\\Programs\\Python\\Python39\\lib\\site-packages\\xgboost\\sklearn.py:1224: UserWarning: The use of label encoder in XGBClassifier is deprecated and will be removed in a future release. To remove this warning, do the following: 1) Pass option use_label_encoder=False when constructing XGBClassifier object; and 2) Encode your labels (y) as integers starting with 0, i.e. 0, 1, 2, ..., [num_class - 1].\n",
      "  warnings.warn(label_encoder_deprecation_msg, UserWarning)\n"
     ]
    },
    {
     "name": "stdout",
     "output_type": "stream",
     "text": [
      "Accuracy : 0.90691 \n",
      " estimators:  500 \n",
      " maxdepth:  3\n",
      "[14:00:47] WARNING: C:/Users/Administrator/workspace/xgboost-win64_release_1.5.0/src/learner.cc:1115: Starting in XGBoost 1.3.0, the default evaluation metric used with the objective 'multi:softprob' was changed from 'merror' to 'mlogloss'. Explicitly set eval_metric if you'd like to restore the old behavior."
     ]
    },
    {
     "name": "stderr",
     "output_type": "stream",
     "text": [
      "C:\\Users\\Asus\\AppData\\Local\\Programs\\Python\\Python39\\lib\\site-packages\\xgboost\\sklearn.py:1224: UserWarning: The use of label encoder in XGBClassifier is deprecated and will be removed in a future release. To remove this warning, do the following: 1) Pass option use_label_encoder=False when constructing XGBClassifier object; and 2) Encode your labels (y) as integers starting with 0, i.e. 0, 1, 2, ..., [num_class - 1].\n",
      "  warnings.warn(label_encoder_deprecation_msg, UserWarning)\n"
     ]
    },
    {
     "name": "stdout",
     "output_type": "stream",
     "text": [
      "\n",
      "Accuracy : 0.91041 \n",
      " estimators:  500 \n",
      " maxdepth:  4\n"
     ]
    },
    {
     "name": "stderr",
     "output_type": "stream",
     "text": [
      "C:\\Users\\Asus\\AppData\\Local\\Programs\\Python\\Python39\\lib\\site-packages\\xgboost\\sklearn.py:1224: UserWarning: The use of label encoder in XGBClassifier is deprecated and will be removed in a future release. To remove this warning, do the following: 1) Pass option use_label_encoder=False when constructing XGBClassifier object; and 2) Encode your labels (y) as integers starting with 0, i.e. 0, 1, 2, ..., [num_class - 1].\n",
      "  warnings.warn(label_encoder_deprecation_msg, UserWarning)\n"
     ]
    },
    {
     "name": "stdout",
     "output_type": "stream",
     "text": [
      "[14:01:43] WARNING: C:/Users/Administrator/workspace/xgboost-win64_release_1.5.0/src/learner.cc:1115: Starting in XGBoost 1.3.0, the default evaluation metric used with the objective 'multi:softprob' was changed from 'merror' to 'mlogloss'. Explicitly set eval_metric if you'd like to restore the old behavior.\n",
      "Accuracy : 0.91141 \n",
      " estimators:  500 \n",
      " maxdepth:  5\n"
     ]
    },
    {
     "name": "stderr",
     "output_type": "stream",
     "text": [
      "C:\\Users\\Asus\\AppData\\Local\\Programs\\Python\\Python39\\lib\\site-packages\\xgboost\\sklearn.py:1224: UserWarning: The use of label encoder in XGBClassifier is deprecated and will be removed in a future release. To remove this warning, do the following: 1) Pass option use_label_encoder=False when constructing XGBClassifier object; and 2) Encode your labels (y) as integers starting with 0, i.e. 0, 1, 2, ..., [num_class - 1].\n",
      "  warnings.warn(label_encoder_deprecation_msg, UserWarning)\n"
     ]
    },
    {
     "name": "stdout",
     "output_type": "stream",
     "text": [
      "[14:02:36] WARNING: C:/Users/Administrator/workspace/xgboost-win64_release_1.5.0/src/learner.cc:1115: Starting in XGBoost 1.3.0, the default evaluation metric used with the objective 'multi:softprob' was changed from 'merror' to 'mlogloss'. Explicitly set eval_metric if you'd like to restore the old behavior.\n",
      "Accuracy : 0.90741 \n",
      " estimators:  500 \n",
      " maxdepth:  6\n",
      "[14:03:27] WARNING: C:/Users/Administrator/workspace/xgboost-win64_release_1.5.0/src/learner.cc:1115: Starting in XGBoost 1.3.0, the default evaluation metric used with the objective 'multi:softprob' was changed from 'merror' to 'mlogloss'. Explicitly set eval_metric if you'd like to restore the old behavior.\n"
     ]
    },
    {
     "name": "stderr",
     "output_type": "stream",
     "text": [
      "C:\\Users\\Asus\\AppData\\Local\\Programs\\Python\\Python39\\lib\\site-packages\\xgboost\\sklearn.py:1224: UserWarning: The use of label encoder in XGBClassifier is deprecated and will be removed in a future release. To remove this warning, do the following: 1) Pass option use_label_encoder=False when constructing XGBClassifier object; and 2) Encode your labels (y) as integers starting with 0, i.e. 0, 1, 2, ..., [num_class - 1].\n",
      "  warnings.warn(label_encoder_deprecation_msg, UserWarning)\n"
     ]
    },
    {
     "name": "stdout",
     "output_type": "stream",
     "text": [
      "Accuracy : 0.90991 \n",
      " estimators:  1000 \n",
      " maxdepth:  3\n",
      "[14:04:53] WARNING: C:/Users/Administrator/workspace/xgboost-win64_release_1.5.0/src/learner.cc:1115: Starting in XGBoost 1.3.0, the default evaluation metric used with the objective 'multi:softprob' was changed from 'merror' to 'mlogloss'. Explicitly set eval_metric if you'd like to restore the old behavior.\n"
     ]
    },
    {
     "name": "stderr",
     "output_type": "stream",
     "text": [
      "C:\\Users\\Asus\\AppData\\Local\\Programs\\Python\\Python39\\lib\\site-packages\\xgboost\\sklearn.py:1224: UserWarning: The use of label encoder in XGBClassifier is deprecated and will be removed in a future release. To remove this warning, do the following: 1) Pass option use_label_encoder=False when constructing XGBClassifier object; and 2) Encode your labels (y) as integers starting with 0, i.e. 0, 1, 2, ..., [num_class - 1].\n",
      "  warnings.warn(label_encoder_deprecation_msg, UserWarning)\n"
     ]
    },
    {
     "name": "stdout",
     "output_type": "stream",
     "text": [
      "Accuracy : 0.91091 \n",
      " estimators:  1000 \n",
      " maxdepth:  4\n"
     ]
    },
    {
     "name": "stderr",
     "output_type": "stream",
     "text": [
      "C:\\Users\\Asus\\AppData\\Local\\Programs\\Python\\Python39\\lib\\site-packages\\xgboost\\sklearn.py:1224: UserWarning: The use of label encoder in XGBClassifier is deprecated and will be removed in a future release. To remove this warning, do the following: 1) Pass option use_label_encoder=False when constructing XGBClassifier object; and 2) Encode your labels (y) as integers starting with 0, i.e. 0, 1, 2, ..., [num_class - 1].\n",
      "  warnings.warn(label_encoder_deprecation_msg, UserWarning)\n"
     ]
    },
    {
     "name": "stdout",
     "output_type": "stream",
     "text": [
      "[14:06:05] WARNING: C:/Users/Administrator/workspace/xgboost-win64_release_1.5.0/src/learner.cc:1115: Starting in XGBoost 1.3.0, the default evaluation metric used with the objective 'multi:softprob' was changed from 'merror' to 'mlogloss'. Explicitly set eval_metric if you'd like to restore the old behavior.\n",
      "Accuracy : 0.91141 \n",
      " estimators:  1000 \n",
      " maxdepth:  5\n"
     ]
    },
    {
     "name": "stderr",
     "output_type": "stream",
     "text": [
      "C:\\Users\\Asus\\AppData\\Local\\Programs\\Python\\Python39\\lib\\site-packages\\xgboost\\sklearn.py:1224: UserWarning: The use of label encoder in XGBClassifier is deprecated and will be removed in a future release. To remove this warning, do the following: 1) Pass option use_label_encoder=False when constructing XGBClassifier object; and 2) Encode your labels (y) as integers starting with 0, i.e. 0, 1, 2, ..., [num_class - 1].\n",
      "  warnings.warn(label_encoder_deprecation_msg, UserWarning)\n"
     ]
    },
    {
     "name": "stdout",
     "output_type": "stream",
     "text": [
      "[14:07:19] WARNING: C:/Users/Administrator/workspace/xgboost-win64_release_1.5.0/src/learner.cc:1115: Starting in XGBoost 1.3.0, the default evaluation metric used with the objective 'multi:softprob' was changed from 'merror' to 'mlogloss'. Explicitly set eval_metric if you'd like to restore the old behavior.\n",
      "Accuracy : 0.90741 \n",
      " estimators:  1000 \n",
      " maxdepth:  6\n"
     ]
    }
   ],
   "source": [
    "## Classification using XGBoost model\n",
    "from sklearn.metrics import roc_auc_score, accuracy_score,roc_curve, precision_recall_curve, auc, confusion_matrix\n",
    "from xgboost import XGBClassifier, XGBRFClassifier\n",
    "estimators=[300, 500, 1000]\n",
    "for x in estimators:    \n",
    "    for i in range (3,7):\n",
    "        xgb = XGBClassifier(n_estimators=x, max_depth=i, n_jobs=-1)\n",
    "        xgb.fit(X_train, y_train)\n",
    "        preds = xgb.predict(X_test)\n",
    "        print('Accuracy', ':', round(accuracy_score(y_test, preds), 5), '\\n','estimators: ',x,'\\n','maxdepth: ', i) "
   ]
  },
  {
   "cell_type": "code",
   "execution_count": 8,
   "metadata": {},
   "outputs": [
    {
     "name": "stderr",
     "output_type": "stream",
     "text": [
      "C:\\Users\\Asus\\AppData\\Local\\Programs\\Python\\Python39\\lib\\site-packages\\xgboost\\sklearn.py:1224: UserWarning: The use of label encoder in XGBClassifier is deprecated and will be removed in a future release. To remove this warning, do the following: 1) Pass option use_label_encoder=False when constructing XGBClassifier object; and 2) Encode your labels (y) as integers starting with 0, i.e. 0, 1, 2, ..., [num_class - 1].\n",
      "  warnings.warn(label_encoder_deprecation_msg, UserWarning)\n"
     ]
    },
    {
     "name": "stdout",
     "output_type": "stream",
     "text": [
      "[14:16:36] WARNING: C:/Users/Administrator/workspace/xgboost-win64_release_1.5.0/src/learner.cc:1115: Starting in XGBoost 1.3.0, the default evaluation metric used with the objective 'multi:softprob' was changed from 'merror' to 'mlogloss'. Explicitly set eval_metric if you'd like to restore the old behavior.\n",
      "Accuracy : 0.90741\n"
     ]
    }
   ],
   "source": [
    "## as we can see maximum accuracy is found when Maxdepth is 6 and NumberOfEstimators is 1000.\n",
    "xgb = XGBClassifier(n_estimators=1000, max_depth=6, n_jobs=-1)\n",
    "xgb.fit(X_train, y_train)\n",
    "preds = xgb.predict(X_test)\n",
    "print('Accuracy', ':', round(accuracy_score(y_test, preds), 5))"
   ]
  },
  {
   "cell_type": "code",
   "execution_count": 9,
   "metadata": {},
   "outputs": [
    {
     "data": {
      "text/html": [
       "<div>\n",
       "<style scoped>\n",
       "    .dataframe tbody tr th:only-of-type {\n",
       "        vertical-align: middle;\n",
       "    }\n",
       "\n",
       "    .dataframe tbody tr th {\n",
       "        vertical-align: top;\n",
       "    }\n",
       "\n",
       "    .dataframe thead th {\n",
       "        text-align: right;\n",
       "    }\n",
       "</style>\n",
       "<table border=\"1\" class=\"dataframe\">\n",
       "  <thead>\n",
       "    <tr style=\"text-align: right;\">\n",
       "      <th></th>\n",
       "      <th>chroma_stft_mean</th>\n",
       "      <th>chroma_stft_var</th>\n",
       "      <th>rms_mean</th>\n",
       "      <th>rms_var</th>\n",
       "      <th>spectral_centroid_mean</th>\n",
       "      <th>spectral_centroid_var</th>\n",
       "      <th>spectral_bandwidth_mean</th>\n",
       "      <th>spectral_bandwidth_var</th>\n",
       "      <th>rolloff_mean</th>\n",
       "      <th>rolloff_var</th>\n",
       "      <th>...</th>\n",
       "      <th>mfcc16_mean</th>\n",
       "      <th>mfcc16_var</th>\n",
       "      <th>mfcc17_mean</th>\n",
       "      <th>mfcc17_var</th>\n",
       "      <th>mfcc18_mean</th>\n",
       "      <th>mfcc18_var</th>\n",
       "      <th>mfcc19_mean</th>\n",
       "      <th>mfcc19_var</th>\n",
       "      <th>mfcc20_mean</th>\n",
       "      <th>mfcc20_var</th>\n",
       "    </tr>\n",
       "  </thead>\n",
       "  <tbody>\n",
       "    <tr>\n",
       "      <th>7292</th>\n",
       "      <td>0.144167</td>\n",
       "      <td>0.700944</td>\n",
       "      <td>0.156238</td>\n",
       "      <td>0.020291</td>\n",
       "      <td>0.226570</td>\n",
       "      <td>0.022977</td>\n",
       "      <td>0.641447</td>\n",
       "      <td>0.082193</td>\n",
       "      <td>0.346059</td>\n",
       "      <td>0.134201</td>\n",
       "      <td>...</td>\n",
       "      <td>0.265953</td>\n",
       "      <td>0.037966</td>\n",
       "      <td>0.253393</td>\n",
       "      <td>0.115151</td>\n",
       "      <td>0.220791</td>\n",
       "      <td>0.087464</td>\n",
       "      <td>0.527003</td>\n",
       "      <td>0.050099</td>\n",
       "      <td>0.524321</td>\n",
       "      <td>0.088255</td>\n",
       "    </tr>\n",
       "    <tr>\n",
       "      <th>7710</th>\n",
       "      <td>0.438740</td>\n",
       "      <td>0.654054</td>\n",
       "      <td>0.463773</td>\n",
       "      <td>0.103972</td>\n",
       "      <td>0.534284</td>\n",
       "      <td>0.074001</td>\n",
       "      <td>0.791703</td>\n",
       "      <td>0.065959</td>\n",
       "      <td>0.716442</td>\n",
       "      <td>0.062480</td>\n",
       "      <td>...</td>\n",
       "      <td>0.268817</td>\n",
       "      <td>0.038865</td>\n",
       "      <td>0.295296</td>\n",
       "      <td>0.124486</td>\n",
       "      <td>0.193430</td>\n",
       "      <td>0.045835</td>\n",
       "      <td>0.301759</td>\n",
       "      <td>0.026107</td>\n",
       "      <td>0.433630</td>\n",
       "      <td>0.075205</td>\n",
       "    </tr>\n",
       "    <tr>\n",
       "      <th>4094</th>\n",
       "      <td>0.624955</td>\n",
       "      <td>0.616458</td>\n",
       "      <td>0.464591</td>\n",
       "      <td>0.120432</td>\n",
       "      <td>0.569794</td>\n",
       "      <td>0.047116</td>\n",
       "      <td>0.663952</td>\n",
       "      <td>0.035228</td>\n",
       "      <td>0.643669</td>\n",
       "      <td>0.040609</td>\n",
       "      <td>...</td>\n",
       "      <td>0.436217</td>\n",
       "      <td>0.043254</td>\n",
       "      <td>0.431312</td>\n",
       "      <td>0.064913</td>\n",
       "      <td>0.423248</td>\n",
       "      <td>0.052670</td>\n",
       "      <td>0.447444</td>\n",
       "      <td>0.028309</td>\n",
       "      <td>0.515260</td>\n",
       "      <td>0.064749</td>\n",
       "    </tr>\n",
       "    <tr>\n",
       "      <th>3944</th>\n",
       "      <td>0.330692</td>\n",
       "      <td>0.721965</td>\n",
       "      <td>0.259624</td>\n",
       "      <td>0.061119</td>\n",
       "      <td>0.144328</td>\n",
       "      <td>0.015686</td>\n",
       "      <td>0.310676</td>\n",
       "      <td>0.069449</td>\n",
       "      <td>0.168105</td>\n",
       "      <td>0.025866</td>\n",
       "      <td>...</td>\n",
       "      <td>0.303506</td>\n",
       "      <td>0.029190</td>\n",
       "      <td>0.310805</td>\n",
       "      <td>0.135405</td>\n",
       "      <td>0.288938</td>\n",
       "      <td>0.024805</td>\n",
       "      <td>0.422385</td>\n",
       "      <td>0.021687</td>\n",
       "      <td>0.469580</td>\n",
       "      <td>0.053926</td>\n",
       "    </tr>\n",
       "    <tr>\n",
       "      <th>8256</th>\n",
       "      <td>0.417087</td>\n",
       "      <td>0.670697</td>\n",
       "      <td>0.219586</td>\n",
       "      <td>0.039150</td>\n",
       "      <td>0.370266</td>\n",
       "      <td>0.135439</td>\n",
       "      <td>0.575191</td>\n",
       "      <td>0.172036</td>\n",
       "      <td>0.454534</td>\n",
       "      <td>0.243923</td>\n",
       "      <td>...</td>\n",
       "      <td>0.317408</td>\n",
       "      <td>0.039976</td>\n",
       "      <td>0.473906</td>\n",
       "      <td>0.066060</td>\n",
       "      <td>0.450052</td>\n",
       "      <td>0.083287</td>\n",
       "      <td>0.450569</td>\n",
       "      <td>0.048931</td>\n",
       "      <td>0.480029</td>\n",
       "      <td>0.033774</td>\n",
       "    </tr>\n",
       "  </tbody>\n",
       "</table>\n",
       "<p>5 rows × 57 columns</p>\n",
       "</div>"
      ],
      "text/plain": [
       "      chroma_stft_mean  chroma_stft_var  rms_mean   rms_var  \\\n",
       "7292          0.144167         0.700944  0.156238  0.020291   \n",
       "7710          0.438740         0.654054  0.463773  0.103972   \n",
       "4094          0.624955         0.616458  0.464591  0.120432   \n",
       "3944          0.330692         0.721965  0.259624  0.061119   \n",
       "8256          0.417087         0.670697  0.219586  0.039150   \n",
       "\n",
       "      spectral_centroid_mean  spectral_centroid_var  spectral_bandwidth_mean  \\\n",
       "7292                0.226570               0.022977                 0.641447   \n",
       "7710                0.534284               0.074001                 0.791703   \n",
       "4094                0.569794               0.047116                 0.663952   \n",
       "3944                0.144328               0.015686                 0.310676   \n",
       "8256                0.370266               0.135439                 0.575191   \n",
       "\n",
       "      spectral_bandwidth_var  rolloff_mean  rolloff_var  ...  mfcc16_mean  \\\n",
       "7292                0.082193      0.346059     0.134201  ...     0.265953   \n",
       "7710                0.065959      0.716442     0.062480  ...     0.268817   \n",
       "4094                0.035228      0.643669     0.040609  ...     0.436217   \n",
       "3944                0.069449      0.168105     0.025866  ...     0.303506   \n",
       "8256                0.172036      0.454534     0.243923  ...     0.317408   \n",
       "\n",
       "      mfcc16_var  mfcc17_mean  mfcc17_var  mfcc18_mean  mfcc18_var  \\\n",
       "7292    0.037966     0.253393    0.115151     0.220791    0.087464   \n",
       "7710    0.038865     0.295296    0.124486     0.193430    0.045835   \n",
       "4094    0.043254     0.431312    0.064913     0.423248    0.052670   \n",
       "3944    0.029190     0.310805    0.135405     0.288938    0.024805   \n",
       "8256    0.039976     0.473906    0.066060     0.450052    0.083287   \n",
       "\n",
       "      mfcc19_mean  mfcc19_var  mfcc20_mean  mfcc20_var  \n",
       "7292     0.527003    0.050099     0.524321    0.088255  \n",
       "7710     0.301759    0.026107     0.433630    0.075205  \n",
       "4094     0.447444    0.028309     0.515260    0.064749  \n",
       "3944     0.422385    0.021687     0.469580    0.053926  \n",
       "8256     0.450569    0.048931     0.480029    0.033774  \n",
       "\n",
       "[5 rows x 57 columns]"
      ]
     },
     "execution_count": 9,
     "metadata": {},
     "output_type": "execute_result"
    }
   ],
   "source": [
    "X_test.tail()"
   ]
  },
  {
   "cell_type": "code",
   "execution_count": 11,
   "metadata": {},
   "outputs": [
    {
     "data": {
      "image/png": "[encoded data removed]",
      "text/plain": [
       "<Figure size 1152x648 with 2 Axes>"
      ]
     },
     "metadata": {
      "needs_background": "light"
     },
     "output_type": "display_data"
    },
    {
     "data": {
      "image/png": "[encoded data removed]",
      "text/plain": [
       "<Figure size 1152x648 with 2 Axes>"
      ]
     },
     "metadata": {
      "needs_background": "light"
     },
     "output_type": "display_data"
    }
   ],
   "source": [
    "## plotting confusion matrices\n",
    "import seaborn as sns\n",
    "import matplotlib.pyplot as plt\n",
    "\n",
    "confusion_matr = confusion_matrix(y_test, preds) \n",
    "fig1=plt.figure(figsize = (16, 9))\n",
    "plt.title(\"Not Normalized Confusion Matrix\")\n",
    "xticklabels = [\"blues\", \"classical\", \"country\", \"disco\", \"hiphop\", \"jazz\", \"metal\", \"pop\", \"reggae\", \"rock\"]\n",
    "yticklabels=[\"blues\", \"classical\", \"country\", \"disco\", \"hiphop\", \"jazz\", \"metal\", \"pop\", \"reggae\", \"rock\"]\n",
    "sns.heatmap(confusion_matr, cmap=\"Blues\", annot=True, xticklabels=xticklabels,yticklabels=yticklabels);\n",
    "p1=plt.savefig(\"confusion matrix\")\n",
    "fig2=plt.figure(figsize=(16,9))\n",
    "plt.title(\"Normalized Confusion Matrix\")\n",
    "sns.heatmap(confusion_matr/confusion_matr.sum(axis=1), annot=True,xticklabels=xticklabels,yticklabels=yticklabels)\n",
    "p2=plt.savefig(\"normalized confusion matrix\")"
   ]
  },
  {
   "cell_type": "code",
   "execution_count": null,
   "metadata": {},
   "outputs": [],
   "source": []
  }
 ],
 "metadata": {
  "interpreter": {
   "hash": "b5843a13e7131a14c3c0e364f0390d6592a995e3082c3f83420ac4385eeb2370"
  },
  "kernelspec": {
   "display_name": "Python 3.9.1 64-bit",
   "name": "python3"
  },
  "language_info": {
   "codemirror_mode": {
    "name": "ipython",
    "version": 3
   },
   "file_extension": ".py",
   "mimetype": "text/x-python",
   "name": "python",
   "nbconvert_exporter": "python",
   "pygments_lexer": "ipython3",
   "version": "3.9.1"
  },
  "orig_nbformat": 4
 },
 "nbformat": 4,
 "nbformat_minor": 2
}
